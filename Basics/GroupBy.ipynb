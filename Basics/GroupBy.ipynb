{
  "nbformat": 4,
  "nbformat_minor": 0,
  "metadata": {
    "colab": {
      "name": "GroupBy.ipynb",
      "provenance": [],
      "collapsed_sections": [],
      "mount_file_id": "1acoswGTiOTMzjtHQhXdrrc47O4iH7Ihf",
      "authorship_tag": "ABX9TyPL9zrs3tUwpIAYH82QbVLf",
      "include_colab_link": true
    },
    "kernelspec": {
      "name": "python3",
      "display_name": "Python 3"
    },
    "language_info": {
      "name": "python"
    }
  },
  "cells": [
    {
      "cell_type": "markdown",
      "metadata": {
        "id": "view-in-github",
        "colab_type": "text"
      },
      "source": [
        "<a href=\"https://colab.research.google.com/github/anajikadam17/MachineCodeBasics/blob/main/Basics/GroupBy.ipynb\" target=\"_parent\"><img src=\"https://colab.research.google.com/assets/colab-badge.svg\" alt=\"Open In Colab\"/></a>"
      ]
    },
    {
      "cell_type": "markdown",
      "metadata": {
        "id": "RxHge0835idB"
      },
      "source": [
        "# In this tutorial we are going to look at weather data from various cities and see how group by can be used to run some analytics"
      ]
    },
    {
      "cell_type": "code",
      "metadata": {
        "colab": {
          "base_uri": "https://localhost:8080/",
          "height": 416
        },
        "id": "cvcO6Gj25flW",
        "outputId": "62afac15-5455-4740-8c2c-184379e31619"
      },
      "source": [
        "import pandas as pd\n",
        "# https://raw.githubusercontent.com/codebasics/py/master/pandas/7_group_by/weather_by_cities.csv\n",
        "path = \"https://raw.github.com/codebasics/py/master/pandas/7_group_by/\"\n",
        "df = pd.read_csv(path+\"weather_by_cities.csv\")\n",
        "df"
      ],
      "execution_count": 28,
      "outputs": [
        {
          "output_type": "execute_result",
          "data": {
            "text/html": [
              "<div>\n",
              "<style scoped>\n",
              "    .dataframe tbody tr th:only-of-type {\n",
              "        vertical-align: middle;\n",
              "    }\n",
              "\n",
              "    .dataframe tbody tr th {\n",
              "        vertical-align: top;\n",
              "    }\n",
              "\n",
              "    .dataframe thead th {\n",
              "        text-align: right;\n",
              "    }\n",
              "</style>\n",
              "<table border=\"1\" class=\"dataframe\">\n",
              "  <thead>\n",
              "    <tr style=\"text-align: right;\">\n",
              "      <th></th>\n",
              "      <th>day</th>\n",
              "      <th>city</th>\n",
              "      <th>temperature</th>\n",
              "      <th>windspeed</th>\n",
              "      <th>event</th>\n",
              "    </tr>\n",
              "  </thead>\n",
              "  <tbody>\n",
              "    <tr>\n",
              "      <th>0</th>\n",
              "      <td>1/1/2017</td>\n",
              "      <td>new york</td>\n",
              "      <td>32</td>\n",
              "      <td>6</td>\n",
              "      <td>Rain</td>\n",
              "    </tr>\n",
              "    <tr>\n",
              "      <th>1</th>\n",
              "      <td>1/2/2017</td>\n",
              "      <td>new york</td>\n",
              "      <td>36</td>\n",
              "      <td>7</td>\n",
              "      <td>Sunny</td>\n",
              "    </tr>\n",
              "    <tr>\n",
              "      <th>2</th>\n",
              "      <td>1/3/2017</td>\n",
              "      <td>new york</td>\n",
              "      <td>28</td>\n",
              "      <td>12</td>\n",
              "      <td>Snow</td>\n",
              "    </tr>\n",
              "    <tr>\n",
              "      <th>3</th>\n",
              "      <td>1/4/2017</td>\n",
              "      <td>new york</td>\n",
              "      <td>33</td>\n",
              "      <td>7</td>\n",
              "      <td>Sunny</td>\n",
              "    </tr>\n",
              "    <tr>\n",
              "      <th>4</th>\n",
              "      <td>1/1/2017</td>\n",
              "      <td>mumbai</td>\n",
              "      <td>90</td>\n",
              "      <td>5</td>\n",
              "      <td>Sunny</td>\n",
              "    </tr>\n",
              "    <tr>\n",
              "      <th>5</th>\n",
              "      <td>1/2/2017</td>\n",
              "      <td>mumbai</td>\n",
              "      <td>85</td>\n",
              "      <td>12</td>\n",
              "      <td>Fog</td>\n",
              "    </tr>\n",
              "    <tr>\n",
              "      <th>6</th>\n",
              "      <td>1/3/2017</td>\n",
              "      <td>mumbai</td>\n",
              "      <td>87</td>\n",
              "      <td>15</td>\n",
              "      <td>Fog</td>\n",
              "    </tr>\n",
              "    <tr>\n",
              "      <th>7</th>\n",
              "      <td>1/4/2017</td>\n",
              "      <td>mumbai</td>\n",
              "      <td>92</td>\n",
              "      <td>5</td>\n",
              "      <td>Rain</td>\n",
              "    </tr>\n",
              "    <tr>\n",
              "      <th>8</th>\n",
              "      <td>1/1/2017</td>\n",
              "      <td>paris</td>\n",
              "      <td>45</td>\n",
              "      <td>20</td>\n",
              "      <td>Sunny</td>\n",
              "    </tr>\n",
              "    <tr>\n",
              "      <th>9</th>\n",
              "      <td>1/2/2017</td>\n",
              "      <td>paris</td>\n",
              "      <td>50</td>\n",
              "      <td>13</td>\n",
              "      <td>Cloudy</td>\n",
              "    </tr>\n",
              "    <tr>\n",
              "      <th>10</th>\n",
              "      <td>1/3/2017</td>\n",
              "      <td>paris</td>\n",
              "      <td>54</td>\n",
              "      <td>8</td>\n",
              "      <td>Cloudy</td>\n",
              "    </tr>\n",
              "    <tr>\n",
              "      <th>11</th>\n",
              "      <td>1/4/2017</td>\n",
              "      <td>paris</td>\n",
              "      <td>42</td>\n",
              "      <td>10</td>\n",
              "      <td>Cloudy</td>\n",
              "    </tr>\n",
              "  </tbody>\n",
              "</table>\n",
              "</div>"
            ],
            "text/plain": [
              "         day      city  temperature  windspeed   event\n",
              "0   1/1/2017  new york           32          6    Rain\n",
              "1   1/2/2017  new york           36          7   Sunny\n",
              "2   1/3/2017  new york           28         12    Snow\n",
              "3   1/4/2017  new york           33          7   Sunny\n",
              "4   1/1/2017    mumbai           90          5   Sunny\n",
              "5   1/2/2017    mumbai           85         12     Fog\n",
              "6   1/3/2017    mumbai           87         15     Fog\n",
              "7   1/4/2017    mumbai           92          5    Rain\n",
              "8   1/1/2017     paris           45         20   Sunny\n",
              "9   1/2/2017     paris           50         13  Cloudy\n",
              "10  1/3/2017     paris           54          8  Cloudy\n",
              "11  1/4/2017     paris           42         10  Cloudy"
            ]
          },
          "metadata": {
            "tags": []
          },
          "execution_count": 28
        }
      ]
    },
    {
      "cell_type": "markdown",
      "metadata": {
        "id": "TaRnRDoy6DRz"
      },
      "source": [
        "For this dataset, get following answers,\n",
        "1. What was the maximum temperature in each of these 3 cities?\n",
        "2. What was the average windspeed in each of these 3 cities?\n"
      ]
    },
    {
      "cell_type": "code",
      "metadata": {
        "colab": {
          "base_uri": "https://localhost:8080/"
        },
        "id": "kwAWo53y591J",
        "outputId": "33b87d46-1764-4f8a-d4cb-d6b078f0042f"
      },
      "source": [
        "g = df.groupby(\"city\")\n",
        "g"
      ],
      "execution_count": 3,
      "outputs": [
        {
          "output_type": "execute_result",
          "data": {
            "text/plain": [
              "<pandas.core.groupby.generic.DataFrameGroupBy object at 0x7fa15a122690>"
            ]
          },
          "metadata": {
            "tags": []
          },
          "execution_count": 3
        }
      ]
    },
    {
      "cell_type": "code",
      "metadata": {
        "colab": {
          "base_uri": "https://localhost:8080/"
        },
        "id": "fbkBFCP559jY",
        "outputId": "1465f320-014d-4773-faae-d71a05171532"
      },
      "source": [
        "for city, data in g:\n",
        "    print(\"city:\",city)\n",
        "    print(\"=\"*100)\n",
        "    print(\"data:\",data)"
      ],
      "execution_count": 6,
      "outputs": [
        {
          "output_type": "stream",
          "text": [
            "city: mumbai\n",
            "====================================================================================================\n",
            "data:         day    city  temperature  windspeed  event\n",
            "4  1/1/2017  mumbai           90          5  Sunny\n",
            "5  1/2/2017  mumbai           85         12    Fog\n",
            "6  1/3/2017  mumbai           87         15    Fog\n",
            "7  1/4/2017  mumbai           92          5   Rain\n",
            "city: new york\n",
            "====================================================================================================\n",
            "data:         day      city  temperature  windspeed  event\n",
            "0  1/1/2017  new york           32          6   Rain\n",
            "1  1/2/2017  new york           36          7  Sunny\n",
            "2  1/3/2017  new york           28         12   Snow\n",
            "3  1/4/2017  new york           33          7  Sunny\n",
            "city: paris\n",
            "====================================================================================================\n",
            "data:          day   city  temperature  windspeed   event\n",
            "8   1/1/2017  paris           45         20   Sunny\n",
            "9   1/2/2017  paris           50         13  Cloudy\n",
            "10  1/3/2017  paris           54          8  Cloudy\n",
            "11  1/4/2017  paris           42         10  Cloudy\n"
          ],
          "name": "stdout"
        }
      ]
    },
    {
      "cell_type": "code",
      "metadata": {
        "colab": {
          "base_uri": "https://localhost:8080/",
          "height": 171
        },
        "id": "5AXGUKYH59T6",
        "outputId": "2cb7e94b-81c5-4ced-91f1-220d4d2319d7"
      },
      "source": [
        "g.get_group('mumbai')"
      ],
      "execution_count": 7,
      "outputs": [
        {
          "output_type": "execute_result",
          "data": {
            "text/html": [
              "<div>\n",
              "<style scoped>\n",
              "    .dataframe tbody tr th:only-of-type {\n",
              "        vertical-align: middle;\n",
              "    }\n",
              "\n",
              "    .dataframe tbody tr th {\n",
              "        vertical-align: top;\n",
              "    }\n",
              "\n",
              "    .dataframe thead th {\n",
              "        text-align: right;\n",
              "    }\n",
              "</style>\n",
              "<table border=\"1\" class=\"dataframe\">\n",
              "  <thead>\n",
              "    <tr style=\"text-align: right;\">\n",
              "      <th></th>\n",
              "      <th>day</th>\n",
              "      <th>city</th>\n",
              "      <th>temperature</th>\n",
              "      <th>windspeed</th>\n",
              "      <th>event</th>\n",
              "    </tr>\n",
              "  </thead>\n",
              "  <tbody>\n",
              "    <tr>\n",
              "      <th>4</th>\n",
              "      <td>1/1/2017</td>\n",
              "      <td>mumbai</td>\n",
              "      <td>90</td>\n",
              "      <td>5</td>\n",
              "      <td>Sunny</td>\n",
              "    </tr>\n",
              "    <tr>\n",
              "      <th>5</th>\n",
              "      <td>1/2/2017</td>\n",
              "      <td>mumbai</td>\n",
              "      <td>85</td>\n",
              "      <td>12</td>\n",
              "      <td>Fog</td>\n",
              "    </tr>\n",
              "    <tr>\n",
              "      <th>6</th>\n",
              "      <td>1/3/2017</td>\n",
              "      <td>mumbai</td>\n",
              "      <td>87</td>\n",
              "      <td>15</td>\n",
              "      <td>Fog</td>\n",
              "    </tr>\n",
              "    <tr>\n",
              "      <th>7</th>\n",
              "      <td>1/4/2017</td>\n",
              "      <td>mumbai</td>\n",
              "      <td>92</td>\n",
              "      <td>5</td>\n",
              "      <td>Rain</td>\n",
              "    </tr>\n",
              "  </tbody>\n",
              "</table>\n",
              "</div>"
            ],
            "text/plain": [
              "        day    city  temperature  windspeed  event\n",
              "4  1/1/2017  mumbai           90          5  Sunny\n",
              "5  1/2/2017  mumbai           85         12    Fog\n",
              "6  1/3/2017  mumbai           87         15    Fog\n",
              "7  1/4/2017  mumbai           92          5   Rain"
            ]
          },
          "metadata": {
            "tags": []
          },
          "execution_count": 7
        }
      ]
    },
    {
      "cell_type": "code",
      "metadata": {
        "colab": {
          "base_uri": "https://localhost:8080/",
          "height": 171
        },
        "id": "mBMBri5059GY",
        "outputId": "8d9da839-d9b8-4be2-e88a-5224df2eea89"
      },
      "source": [
        "g.max()"
      ],
      "execution_count": 8,
      "outputs": [
        {
          "output_type": "execute_result",
          "data": {
            "text/html": [
              "<div>\n",
              "<style scoped>\n",
              "    .dataframe tbody tr th:only-of-type {\n",
              "        vertical-align: middle;\n",
              "    }\n",
              "\n",
              "    .dataframe tbody tr th {\n",
              "        vertical-align: top;\n",
              "    }\n",
              "\n",
              "    .dataframe thead th {\n",
              "        text-align: right;\n",
              "    }\n",
              "</style>\n",
              "<table border=\"1\" class=\"dataframe\">\n",
              "  <thead>\n",
              "    <tr style=\"text-align: right;\">\n",
              "      <th></th>\n",
              "      <th>day</th>\n",
              "      <th>temperature</th>\n",
              "      <th>windspeed</th>\n",
              "      <th>event</th>\n",
              "    </tr>\n",
              "    <tr>\n",
              "      <th>city</th>\n",
              "      <th></th>\n",
              "      <th></th>\n",
              "      <th></th>\n",
              "      <th></th>\n",
              "    </tr>\n",
              "  </thead>\n",
              "  <tbody>\n",
              "    <tr>\n",
              "      <th>mumbai</th>\n",
              "      <td>1/4/2017</td>\n",
              "      <td>92</td>\n",
              "      <td>15</td>\n",
              "      <td>Sunny</td>\n",
              "    </tr>\n",
              "    <tr>\n",
              "      <th>new york</th>\n",
              "      <td>1/4/2017</td>\n",
              "      <td>36</td>\n",
              "      <td>12</td>\n",
              "      <td>Sunny</td>\n",
              "    </tr>\n",
              "    <tr>\n",
              "      <th>paris</th>\n",
              "      <td>1/4/2017</td>\n",
              "      <td>54</td>\n",
              "      <td>20</td>\n",
              "      <td>Sunny</td>\n",
              "    </tr>\n",
              "  </tbody>\n",
              "</table>\n",
              "</div>"
            ],
            "text/plain": [
              "               day  temperature  windspeed  event\n",
              "city                                             \n",
              "mumbai    1/4/2017           92         15  Sunny\n",
              "new york  1/4/2017           36         12  Sunny\n",
              "paris     1/4/2017           54         20  Sunny"
            ]
          },
          "metadata": {
            "tags": []
          },
          "execution_count": 8
        }
      ]
    },
    {
      "cell_type": "code",
      "metadata": {
        "colab": {
          "base_uri": "https://localhost:8080/",
          "height": 171
        },
        "id": "d7gs5bId6spr",
        "outputId": "dee1a0ea-f31a-48ab-b5a2-d39457a875f7"
      },
      "source": [
        "g.min()"
      ],
      "execution_count": 9,
      "outputs": [
        {
          "output_type": "execute_result",
          "data": {
            "text/html": [
              "<div>\n",
              "<style scoped>\n",
              "    .dataframe tbody tr th:only-of-type {\n",
              "        vertical-align: middle;\n",
              "    }\n",
              "\n",
              "    .dataframe tbody tr th {\n",
              "        vertical-align: top;\n",
              "    }\n",
              "\n",
              "    .dataframe thead th {\n",
              "        text-align: right;\n",
              "    }\n",
              "</style>\n",
              "<table border=\"1\" class=\"dataframe\">\n",
              "  <thead>\n",
              "    <tr style=\"text-align: right;\">\n",
              "      <th></th>\n",
              "      <th>day</th>\n",
              "      <th>temperature</th>\n",
              "      <th>windspeed</th>\n",
              "      <th>event</th>\n",
              "    </tr>\n",
              "    <tr>\n",
              "      <th>city</th>\n",
              "      <th></th>\n",
              "      <th></th>\n",
              "      <th></th>\n",
              "      <th></th>\n",
              "    </tr>\n",
              "  </thead>\n",
              "  <tbody>\n",
              "    <tr>\n",
              "      <th>mumbai</th>\n",
              "      <td>1/1/2017</td>\n",
              "      <td>85</td>\n",
              "      <td>5</td>\n",
              "      <td>Fog</td>\n",
              "    </tr>\n",
              "    <tr>\n",
              "      <th>new york</th>\n",
              "      <td>1/1/2017</td>\n",
              "      <td>28</td>\n",
              "      <td>6</td>\n",
              "      <td>Rain</td>\n",
              "    </tr>\n",
              "    <tr>\n",
              "      <th>paris</th>\n",
              "      <td>1/1/2017</td>\n",
              "      <td>42</td>\n",
              "      <td>8</td>\n",
              "      <td>Cloudy</td>\n",
              "    </tr>\n",
              "  </tbody>\n",
              "</table>\n",
              "</div>"
            ],
            "text/plain": [
              "               day  temperature  windspeed   event\n",
              "city                                              \n",
              "mumbai    1/1/2017           85          5     Fog\n",
              "new york  1/1/2017           28          6    Rain\n",
              "paris     1/1/2017           42          8  Cloudy"
            ]
          },
          "metadata": {
            "tags": []
          },
          "execution_count": 9
        }
      ]
    },
    {
      "cell_type": "code",
      "metadata": {
        "colab": {
          "base_uri": "https://localhost:8080/",
          "height": 171
        },
        "id": "NXULvtci6vO5",
        "outputId": "1fff579e-4583-4619-d2c9-47b4089ee2a1"
      },
      "source": [
        "g.mean()"
      ],
      "execution_count": 10,
      "outputs": [
        {
          "output_type": "execute_result",
          "data": {
            "text/html": [
              "<div>\n",
              "<style scoped>\n",
              "    .dataframe tbody tr th:only-of-type {\n",
              "        vertical-align: middle;\n",
              "    }\n",
              "\n",
              "    .dataframe tbody tr th {\n",
              "        vertical-align: top;\n",
              "    }\n",
              "\n",
              "    .dataframe thead th {\n",
              "        text-align: right;\n",
              "    }\n",
              "</style>\n",
              "<table border=\"1\" class=\"dataframe\">\n",
              "  <thead>\n",
              "    <tr style=\"text-align: right;\">\n",
              "      <th></th>\n",
              "      <th>temperature</th>\n",
              "      <th>windspeed</th>\n",
              "    </tr>\n",
              "    <tr>\n",
              "      <th>city</th>\n",
              "      <th></th>\n",
              "      <th></th>\n",
              "    </tr>\n",
              "  </thead>\n",
              "  <tbody>\n",
              "    <tr>\n",
              "      <th>mumbai</th>\n",
              "      <td>88.50</td>\n",
              "      <td>9.25</td>\n",
              "    </tr>\n",
              "    <tr>\n",
              "      <th>new york</th>\n",
              "      <td>32.25</td>\n",
              "      <td>8.00</td>\n",
              "    </tr>\n",
              "    <tr>\n",
              "      <th>paris</th>\n",
              "      <td>47.75</td>\n",
              "      <td>12.75</td>\n",
              "    </tr>\n",
              "  </tbody>\n",
              "</table>\n",
              "</div>"
            ],
            "text/plain": [
              "          temperature  windspeed\n",
              "city                            \n",
              "mumbai          88.50       9.25\n",
              "new york        32.25       8.00\n",
              "paris           47.75      12.75"
            ]
          },
          "metadata": {
            "tags": []
          },
          "execution_count": 10
        }
      ]
    },
    {
      "cell_type": "code",
      "metadata": {
        "colab": {
          "base_uri": "https://localhost:8080/",
          "height": 202
        },
        "id": "0L8JjnIX66Ml",
        "outputId": "0e14d247-45fe-4780-cd9a-436d34bc93b1"
      },
      "source": [
        "g.describe()"
      ],
      "execution_count": 11,
      "outputs": [
        {
          "output_type": "execute_result",
          "data": {
            "text/html": [
              "<div>\n",
              "<style scoped>\n",
              "    .dataframe tbody tr th:only-of-type {\n",
              "        vertical-align: middle;\n",
              "    }\n",
              "\n",
              "    .dataframe tbody tr th {\n",
              "        vertical-align: top;\n",
              "    }\n",
              "\n",
              "    .dataframe thead tr th {\n",
              "        text-align: left;\n",
              "    }\n",
              "\n",
              "    .dataframe thead tr:last-of-type th {\n",
              "        text-align: right;\n",
              "    }\n",
              "</style>\n",
              "<table border=\"1\" class=\"dataframe\">\n",
              "  <thead>\n",
              "    <tr>\n",
              "      <th></th>\n",
              "      <th colspan=\"8\" halign=\"left\">temperature</th>\n",
              "      <th colspan=\"8\" halign=\"left\">windspeed</th>\n",
              "    </tr>\n",
              "    <tr>\n",
              "      <th></th>\n",
              "      <th>count</th>\n",
              "      <th>mean</th>\n",
              "      <th>std</th>\n",
              "      <th>min</th>\n",
              "      <th>25%</th>\n",
              "      <th>50%</th>\n",
              "      <th>75%</th>\n",
              "      <th>max</th>\n",
              "      <th>count</th>\n",
              "      <th>mean</th>\n",
              "      <th>std</th>\n",
              "      <th>min</th>\n",
              "      <th>25%</th>\n",
              "      <th>50%</th>\n",
              "      <th>75%</th>\n",
              "      <th>max</th>\n",
              "    </tr>\n",
              "    <tr>\n",
              "      <th>city</th>\n",
              "      <th></th>\n",
              "      <th></th>\n",
              "      <th></th>\n",
              "      <th></th>\n",
              "      <th></th>\n",
              "      <th></th>\n",
              "      <th></th>\n",
              "      <th></th>\n",
              "      <th></th>\n",
              "      <th></th>\n",
              "      <th></th>\n",
              "      <th></th>\n",
              "      <th></th>\n",
              "      <th></th>\n",
              "      <th></th>\n",
              "      <th></th>\n",
              "    </tr>\n",
              "  </thead>\n",
              "  <tbody>\n",
              "    <tr>\n",
              "      <th>mumbai</th>\n",
              "      <td>4.0</td>\n",
              "      <td>88.50</td>\n",
              "      <td>3.109126</td>\n",
              "      <td>85.0</td>\n",
              "      <td>86.50</td>\n",
              "      <td>88.5</td>\n",
              "      <td>90.50</td>\n",
              "      <td>92.0</td>\n",
              "      <td>4.0</td>\n",
              "      <td>9.25</td>\n",
              "      <td>5.057997</td>\n",
              "      <td>5.0</td>\n",
              "      <td>5.00</td>\n",
              "      <td>8.5</td>\n",
              "      <td>12.75</td>\n",
              "      <td>15.0</td>\n",
              "    </tr>\n",
              "    <tr>\n",
              "      <th>new york</th>\n",
              "      <td>4.0</td>\n",
              "      <td>32.25</td>\n",
              "      <td>3.304038</td>\n",
              "      <td>28.0</td>\n",
              "      <td>31.00</td>\n",
              "      <td>32.5</td>\n",
              "      <td>33.75</td>\n",
              "      <td>36.0</td>\n",
              "      <td>4.0</td>\n",
              "      <td>8.00</td>\n",
              "      <td>2.708013</td>\n",
              "      <td>6.0</td>\n",
              "      <td>6.75</td>\n",
              "      <td>7.0</td>\n",
              "      <td>8.25</td>\n",
              "      <td>12.0</td>\n",
              "    </tr>\n",
              "    <tr>\n",
              "      <th>paris</th>\n",
              "      <td>4.0</td>\n",
              "      <td>47.75</td>\n",
              "      <td>5.315073</td>\n",
              "      <td>42.0</td>\n",
              "      <td>44.25</td>\n",
              "      <td>47.5</td>\n",
              "      <td>51.00</td>\n",
              "      <td>54.0</td>\n",
              "      <td>4.0</td>\n",
              "      <td>12.75</td>\n",
              "      <td>5.251984</td>\n",
              "      <td>8.0</td>\n",
              "      <td>9.50</td>\n",
              "      <td>11.5</td>\n",
              "      <td>14.75</td>\n",
              "      <td>20.0</td>\n",
              "    </tr>\n",
              "  </tbody>\n",
              "</table>\n",
              "</div>"
            ],
            "text/plain": [
              "         temperature                         ... windspeed                   \n",
              "               count   mean       std   min  ...       25%   50%    75%   max\n",
              "city                                         ...                             \n",
              "mumbai           4.0  88.50  3.109126  85.0  ...      5.00   8.5  12.75  15.0\n",
              "new york         4.0  32.25  3.304038  28.0  ...      6.75   7.0   8.25  12.0\n",
              "paris            4.0  47.75  5.315073  42.0  ...      9.50  11.5  14.75  20.0\n",
              "\n",
              "[3 rows x 16 columns]"
            ]
          },
          "metadata": {
            "tags": []
          },
          "execution_count": 11
        }
      ]
    },
    {
      "cell_type": "code",
      "metadata": {
        "colab": {
          "base_uri": "https://localhost:8080/"
        },
        "id": "3gElOfJv7BPL",
        "outputId": "c507b8df-2ce3-44a1-e350-f75179a3fc13"
      },
      "source": [
        "g.size()"
      ],
      "execution_count": 12,
      "outputs": [
        {
          "output_type": "execute_result",
          "data": {
            "text/plain": [
              "city\n",
              "mumbai      4\n",
              "new york    4\n",
              "paris       4\n",
              "dtype: int64"
            ]
          },
          "metadata": {
            "tags": []
          },
          "execution_count": 12
        }
      ]
    },
    {
      "cell_type": "code",
      "metadata": {
        "colab": {
          "base_uri": "https://localhost:8080/",
          "height": 171
        },
        "id": "oKlm8hXt7HRj",
        "outputId": "d1773f07-9036-4140-fb91-7970b2db93eb"
      },
      "source": [
        "g.count()"
      ],
      "execution_count": 13,
      "outputs": [
        {
          "output_type": "execute_result",
          "data": {
            "text/html": [
              "<div>\n",
              "<style scoped>\n",
              "    .dataframe tbody tr th:only-of-type {\n",
              "        vertical-align: middle;\n",
              "    }\n",
              "\n",
              "    .dataframe tbody tr th {\n",
              "        vertical-align: top;\n",
              "    }\n",
              "\n",
              "    .dataframe thead th {\n",
              "        text-align: right;\n",
              "    }\n",
              "</style>\n",
              "<table border=\"1\" class=\"dataframe\">\n",
              "  <thead>\n",
              "    <tr style=\"text-align: right;\">\n",
              "      <th></th>\n",
              "      <th>day</th>\n",
              "      <th>temperature</th>\n",
              "      <th>windspeed</th>\n",
              "      <th>event</th>\n",
              "    </tr>\n",
              "    <tr>\n",
              "      <th>city</th>\n",
              "      <th></th>\n",
              "      <th></th>\n",
              "      <th></th>\n",
              "      <th></th>\n",
              "    </tr>\n",
              "  </thead>\n",
              "  <tbody>\n",
              "    <tr>\n",
              "      <th>mumbai</th>\n",
              "      <td>4</td>\n",
              "      <td>4</td>\n",
              "      <td>4</td>\n",
              "      <td>4</td>\n",
              "    </tr>\n",
              "    <tr>\n",
              "      <th>new york</th>\n",
              "      <td>4</td>\n",
              "      <td>4</td>\n",
              "      <td>4</td>\n",
              "      <td>4</td>\n",
              "    </tr>\n",
              "    <tr>\n",
              "      <th>paris</th>\n",
              "      <td>4</td>\n",
              "      <td>4</td>\n",
              "      <td>4</td>\n",
              "      <td>4</td>\n",
              "    </tr>\n",
              "  </tbody>\n",
              "</table>\n",
              "</div>"
            ],
            "text/plain": [
              "          day  temperature  windspeed  event\n",
              "city                                        \n",
              "mumbai      4            4          4      4\n",
              "new york    4            4          4      4\n",
              "paris       4            4          4      4"
            ]
          },
          "metadata": {
            "tags": []
          },
          "execution_count": 13
        }
      ]
    },
    {
      "cell_type": "code",
      "metadata": {
        "colab": {
          "base_uri": "https://localhost:8080/",
          "height": 850
        },
        "id": "qph7VeLS7HI6",
        "outputId": "3f7efafa-cb57-4cb0-d93d-b0eca2d1318c"
      },
      "source": [
        "%matplotlib inline\n",
        "g.plot()"
      ],
      "execution_count": 14,
      "outputs": [
        {
          "output_type": "execute_result",
          "data": {
            "text/plain": [
              "city\n",
              "mumbai      AxesSubplot(0.125,0.125;0.775x0.755)\n",
              "new york    AxesSubplot(0.125,0.125;0.775x0.755)\n",
              "paris       AxesSubplot(0.125,0.125;0.775x0.755)\n",
              "dtype: object"
            ]
          },
          "metadata": {
            "tags": []
          },
          "execution_count": 14
        },
        {
          "output_type": "display_data",
          "data": {
            "image/png": "[encoded data removed]",
            "text/plain": [
              "<Figure size 432x288 with 1 Axes>"
            ]
          },
          "metadata": {
            "tags": [],
            "needs_background": "light"
          }
        },
        {
          "output_type": "display_data",
          "data": {
            "image/png": "[encoded data removed]",
            "text/plain": [
              "<Figure size 432x288 with 1 Axes>"
            ]
          },
          "metadata": {
            "tags": [],
            "needs_background": "light"
          }
        },
        {
          "output_type": "display_data",
          "data": {
            "image/png": "[encoded data removed]",
            "text/plain": [
              "<Figure size 432x288 with 1 Axes>"
            ]
          },
          "metadata": {
            "tags": [],
            "needs_background": "light"
          }
        }
      ]
    },
    {
      "cell_type": "code",
      "metadata": {
        "colab": {
          "base_uri": "https://localhost:8080/"
        },
        "id": "S-GyNTRb7HBF",
        "outputId": "23401c0f-3d9f-45ba-dd0c-3efdaa28cae2"
      },
      "source": [
        "def grouper(df, idx, col):\n",
        "    print(idx)\n",
        "    if 80 <= df[col].loc[idx] <= 90:\n",
        "        return '80-90'\n",
        "    elif 50 <= df[col].loc[idx] <= 60:\n",
        "        return '50-60'\n",
        "    else:\n",
        "        return 'others'\n",
        "\n",
        "\n",
        "g = df.groupby(lambda x: grouper(df, x, 'temperature'))\n",
        "g"
      ],
      "execution_count": 30,
      "outputs": [
        {
          "output_type": "stream",
          "text": [
            "0\n",
            "1\n",
            "2\n",
            "3\n",
            "4\n",
            "5\n",
            "6\n",
            "7\n",
            "8\n",
            "9\n",
            "10\n",
            "11\n"
          ],
          "name": "stdout"
        },
        {
          "output_type": "execute_result",
          "data": {
            "text/plain": [
              "<pandas.core.groupby.generic.DataFrameGroupBy object at 0x7fa15570cf10>"
            ]
          },
          "metadata": {
            "tags": []
          },
          "execution_count": 30
        }
      ]
    },
    {
      "cell_type": "code",
      "metadata": {
        "colab": {
          "base_uri": "https://localhost:8080/"
        },
        "id": "ViKj2UBh7G41",
        "outputId": "7710a4b2-9178-4b60-e839-210ff593bfa2"
      },
      "source": [
        "for key, df in g:\n",
        "    print(\"Group by Key: {}\\n\".format(key))\n",
        "    print(df)\n",
        "    print(\"=====\"*100)"
      ],
      "execution_count": 31,
      "outputs": [
        {
          "output_type": "stream",
          "text": [
            "Group by Key: 50-60\n",
            "\n",
            "         day   city  temperature  windspeed   event\n",
            "9   1/2/2017  paris           50         13  Cloudy\n",
            "10  1/3/2017  paris           54          8  Cloudy\n",
            "====================================================================================================================================================================================================================================================================================================================================================================================================================================================================================================================\n",
            "Group by Key: 80-90\n",
            "\n",
            "        day    city  temperature  windspeed  event\n",
            "4  1/1/2017  mumbai           90          5  Sunny\n",
            "5  1/2/2017  mumbai           85         12    Fog\n",
            "6  1/3/2017  mumbai           87         15    Fog\n",
            "====================================================================================================================================================================================================================================================================================================================================================================================================================================================================================================================\n",
            "Group by Key: others\n",
            "\n",
            "         day      city  temperature  windspeed   event\n",
            "0   1/1/2017  new york           32          6    Rain\n",
            "1   1/2/2017  new york           36          7   Sunny\n",
            "2   1/3/2017  new york           28         12    Snow\n",
            "3   1/4/2017  new york           33          7   Sunny\n",
            "7   1/4/2017    mumbai           92          5    Rain\n",
            "8   1/1/2017     paris           45         20   Sunny\n",
            "11  1/4/2017     paris           42         10  Cloudy\n",
            "====================================================================================================================================================================================================================================================================================================================================================================================================================================================================================================================\n"
          ],
          "name": "stdout"
        }
      ]
    },
    {
      "cell_type": "code",
      "metadata": {
        "id": "CZ_G2XRW-bvF"
      },
      "source": [
        "import pandas as pd"
      ],
      "execution_count": 32,
      "outputs": []
    },
    {
      "cell_type": "code",
      "metadata": {
        "colab": {
          "base_uri": "https://localhost:8080/",
          "height": 416
        },
        "id": "jqGIzJ1V-Seb",
        "outputId": "54eda1e4-b296-445c-ab1b-92dbae12c420"
      },
      "source": [
        "# intialise data of lists.\n",
        "data = {'Cat':['Tom', 'Tom', 'Sam', 'Sam','Bam','Tom','Bam','Tom','Bam','Sam','Sam','Tom'],\n",
        "        'Mon':['jan', 'feb', 'mar', 'jan','feb','feb','mar','jan','feb','mar','jan','feb']}\n",
        "\n",
        "# Create DataFrame\n",
        "df = pd.DataFrame(data)\n",
        "\n",
        "# Print the output.\n",
        "df"
      ],
      "execution_count": 33,
      "outputs": [
        {
          "output_type": "execute_result",
          "data": {
            "text/html": [
              "<div>\n",
              "<style scoped>\n",
              "    .dataframe tbody tr th:only-of-type {\n",
              "        vertical-align: middle;\n",
              "    }\n",
              "\n",
              "    .dataframe tbody tr th {\n",
              "        vertical-align: top;\n",
              "    }\n",
              "\n",
              "    .dataframe thead th {\n",
              "        text-align: right;\n",
              "    }\n",
              "</style>\n",
              "<table border=\"1\" class=\"dataframe\">\n",
              "  <thead>\n",
              "    <tr style=\"text-align: right;\">\n",
              "      <th></th>\n",
              "      <th>Cat</th>\n",
              "      <th>Mon</th>\n",
              "    </tr>\n",
              "  </thead>\n",
              "  <tbody>\n",
              "    <tr>\n",
              "      <th>0</th>\n",
              "      <td>Tom</td>\n",
              "      <td>jan</td>\n",
              "    </tr>\n",
              "    <tr>\n",
              "      <th>1</th>\n",
              "      <td>Tom</td>\n",
              "      <td>feb</td>\n",
              "    </tr>\n",
              "    <tr>\n",
              "      <th>2</th>\n",
              "      <td>Sam</td>\n",
              "      <td>mar</td>\n",
              "    </tr>\n",
              "    <tr>\n",
              "      <th>3</th>\n",
              "      <td>Sam</td>\n",
              "      <td>jan</td>\n",
              "    </tr>\n",
              "    <tr>\n",
              "      <th>4</th>\n",
              "      <td>Bam</td>\n",
              "      <td>feb</td>\n",
              "    </tr>\n",
              "    <tr>\n",
              "      <th>5</th>\n",
              "      <td>Tom</td>\n",
              "      <td>feb</td>\n",
              "    </tr>\n",
              "    <tr>\n",
              "      <th>6</th>\n",
              "      <td>Bam</td>\n",
              "      <td>mar</td>\n",
              "    </tr>\n",
              "    <tr>\n",
              "      <th>7</th>\n",
              "      <td>Tom</td>\n",
              "      <td>jan</td>\n",
              "    </tr>\n",
              "    <tr>\n",
              "      <th>8</th>\n",
              "      <td>Bam</td>\n",
              "      <td>feb</td>\n",
              "    </tr>\n",
              "    <tr>\n",
              "      <th>9</th>\n",
              "      <td>Sam</td>\n",
              "      <td>mar</td>\n",
              "    </tr>\n",
              "    <tr>\n",
              "      <th>10</th>\n",
              "      <td>Sam</td>\n",
              "      <td>jan</td>\n",
              "    </tr>\n",
              "    <tr>\n",
              "      <th>11</th>\n",
              "      <td>Tom</td>\n",
              "      <td>feb</td>\n",
              "    </tr>\n",
              "  </tbody>\n",
              "</table>\n",
              "</div>"
            ],
            "text/plain": [
              "    Cat  Mon\n",
              "0   Tom  jan\n",
              "1   Tom  feb\n",
              "2   Sam  mar\n",
              "3   Sam  jan\n",
              "4   Bam  feb\n",
              "5   Tom  feb\n",
              "6   Bam  mar\n",
              "7   Tom  jan\n",
              "8   Bam  feb\n",
              "9   Sam  mar\n",
              "10  Sam  jan\n",
              "11  Tom  feb"
            ]
          },
          "metadata": {
            "tags": []
          },
          "execution_count": 33
        }
      ]
    },
    {
      "cell_type": "code",
      "metadata": {
        "colab": {
          "base_uri": "https://localhost:8080/",
          "height": 296
        },
        "id": "m7q7Z56S-gbT",
        "outputId": "4fc47b6f-029c-4619-b8fe-9704959dbeaf"
      },
      "source": [
        "df.pivot_table(index=['Mon'],columns='Cat',aggfunc='size').plot(kind='line')"
      ],
      "execution_count": 34,
      "outputs": [
        {
          "output_type": "execute_result",
          "data": {
            "text/plain": [
              "<matplotlib.axes._subplots.AxesSubplot at 0x7fa15570c410>"
            ]
          },
          "metadata": {
            "tags": []
          },
          "execution_count": 34
        },
        {
          "output_type": "display_data",
          "data": {
            "image/png": "[encoded data removed]",
            "text/plain": [
              "<Figure size 432x288 with 1 Axes>"
            ]
          },
          "metadata": {
            "tags": [],
            "needs_background": "light"
          }
        }
      ]
    },
    {
      "cell_type": "code",
      "metadata": {
        "colab": {
          "base_uri": "https://localhost:8080/",
          "height": 171
        },
        "id": "rk0LNCjt-xRK",
        "outputId": "49898c12-650a-472e-8673-bb51aefb705b"
      },
      "source": [
        "df_gb = df.groupby([ 'Mon', 'Cat']).size().unstack(level=1)\n",
        "df_gb"
      ],
      "execution_count": 35,
      "outputs": [
        {
          "output_type": "execute_result",
          "data": {
            "text/html": [
              "<div>\n",
              "<style scoped>\n",
              "    .dataframe tbody tr th:only-of-type {\n",
              "        vertical-align: middle;\n",
              "    }\n",
              "\n",
              "    .dataframe tbody tr th {\n",
              "        vertical-align: top;\n",
              "    }\n",
              "\n",
              "    .dataframe thead th {\n",
              "        text-align: right;\n",
              "    }\n",
              "</style>\n",
              "<table border=\"1\" class=\"dataframe\">\n",
              "  <thead>\n",
              "    <tr style=\"text-align: right;\">\n",
              "      <th>Cat</th>\n",
              "      <th>Bam</th>\n",
              "      <th>Sam</th>\n",
              "      <th>Tom</th>\n",
              "    </tr>\n",
              "    <tr>\n",
              "      <th>Mon</th>\n",
              "      <th></th>\n",
              "      <th></th>\n",
              "      <th></th>\n",
              "    </tr>\n",
              "  </thead>\n",
              "  <tbody>\n",
              "    <tr>\n",
              "      <th>feb</th>\n",
              "      <td>2.0</td>\n",
              "      <td>NaN</td>\n",
              "      <td>3.0</td>\n",
              "    </tr>\n",
              "    <tr>\n",
              "      <th>jan</th>\n",
              "      <td>NaN</td>\n",
              "      <td>2.0</td>\n",
              "      <td>2.0</td>\n",
              "    </tr>\n",
              "    <tr>\n",
              "      <th>mar</th>\n",
              "      <td>1.0</td>\n",
              "      <td>2.0</td>\n",
              "      <td>NaN</td>\n",
              "    </tr>\n",
              "  </tbody>\n",
              "</table>\n",
              "</div>"
            ],
            "text/plain": [
              "Cat  Bam  Sam  Tom\n",
              "Mon               \n",
              "feb  2.0  NaN  3.0\n",
              "jan  NaN  2.0  2.0\n",
              "mar  1.0  2.0  NaN"
            ]
          },
          "metadata": {
            "tags": []
          },
          "execution_count": 35
        }
      ]
    },
    {
      "cell_type": "code",
      "metadata": {
        "colab": {
          "base_uri": "https://localhost:8080/"
        },
        "id": "n41b4aLB-26X",
        "outputId": "e8115b76-f76f-4855-e113-1bdb32d4852b"
      },
      "source": [
        "df.groupby(['Mon','Cat']).size()"
      ],
      "execution_count": 36,
      "outputs": [
        {
          "output_type": "execute_result",
          "data": {
            "text/plain": [
              "Mon  Cat\n",
              "feb  Bam    2\n",
              "     Tom    3\n",
              "jan  Sam    2\n",
              "     Tom    2\n",
              "mar  Bam    1\n",
              "     Sam    2\n",
              "dtype: int64"
            ]
          },
          "metadata": {
            "tags": []
          },
          "execution_count": 36
        }
      ]
    },
    {
      "cell_type": "code",
      "metadata": {
        "colab": {
          "base_uri": "https://localhost:8080/",
          "height": 296
        },
        "id": "HZ25nSgL-5Th",
        "outputId": "0bfb45ef-d861-4096-c7e9-a700c889ec10"
      },
      "source": [
        "# import the module\n",
        "import seaborn as sns\n",
        "r = df.groupby(['Cat']).size()\n",
        "# plot the result\n",
        "sns.barplot(x = r.index, y = r.values)"
      ],
      "execution_count": 37,
      "outputs": [
        {
          "output_type": "execute_result",
          "data": {
            "text/plain": [
              "<matplotlib.axes._subplots.AxesSubplot at 0x7fa146a23650>"
            ]
          },
          "metadata": {
            "tags": []
          },
          "execution_count": 37
        },
        {
          "output_type": "display_data",
          "data": {
            "image/png": "[encoded data removed]",
            "text/plain": [
              "<Figure size 432x288 with 1 Axes>"
            ]
          },
          "metadata": {
            "tags": [],
            "needs_background": "light"
          }
        }
      ]
    },
    {
      "cell_type": "code",
      "metadata": {
        "colab": {
          "base_uri": "https://localhost:8080/",
          "height": 171
        },
        "id": "IThLF6KL-5J0",
        "outputId": "a61259c6-c9ec-4ce0-de44-e1bc63bdc27b"
      },
      "source": [
        "a = df.groupby(['Cat']).count()\n",
        "a"
      ],
      "execution_count": 38,
      "outputs": [
        {
          "output_type": "execute_result",
          "data": {
            "text/html": [
              "<div>\n",
              "<style scoped>\n",
              "    .dataframe tbody tr th:only-of-type {\n",
              "        vertical-align: middle;\n",
              "    }\n",
              "\n",
              "    .dataframe tbody tr th {\n",
              "        vertical-align: top;\n",
              "    }\n",
              "\n",
              "    .dataframe thead th {\n",
              "        text-align: right;\n",
              "    }\n",
              "</style>\n",
              "<table border=\"1\" class=\"dataframe\">\n",
              "  <thead>\n",
              "    <tr style=\"text-align: right;\">\n",
              "      <th></th>\n",
              "      <th>Mon</th>\n",
              "    </tr>\n",
              "    <tr>\n",
              "      <th>Cat</th>\n",
              "      <th></th>\n",
              "    </tr>\n",
              "  </thead>\n",
              "  <tbody>\n",
              "    <tr>\n",
              "      <th>Bam</th>\n",
              "      <td>3</td>\n",
              "    </tr>\n",
              "    <tr>\n",
              "      <th>Sam</th>\n",
              "      <td>4</td>\n",
              "    </tr>\n",
              "    <tr>\n",
              "      <th>Tom</th>\n",
              "      <td>5</td>\n",
              "    </tr>\n",
              "  </tbody>\n",
              "</table>\n",
              "</div>"
            ],
            "text/plain": [
              "     Mon\n",
              "Cat     \n",
              "Bam    3\n",
              "Sam    4\n",
              "Tom    5"
            ]
          },
          "metadata": {
            "tags": []
          },
          "execution_count": 38
        }
      ]
    },
    {
      "cell_type": "code",
      "metadata": {
        "colab": {
          "base_uri": "https://localhost:8080/",
          "height": 355
        },
        "id": "j1nNugZS-5BW",
        "outputId": "1819895f-541f-4640-a08f-e0cdeb447983"
      },
      "source": [
        "df = pd.DataFrame([[2015, 1, 1],\n",
        "                    [2015, 1, 1],\n",
        "                    [2015, 1, 2],\n",
        "                    [2015, 1, 2],\n",
        "                    [2015, 1, 2],\n",
        "                    [2015, 2, 1],\n",
        "                    [2015, 2, 1],\n",
        "                    [2015, 2, 1],\n",
        "                    [2015, 2, 2],\n",
        "                    [2015, 2, 2]], columns = ['year', 'month', 'class'])\n",
        "df"
      ],
      "execution_count": 39,
      "outputs": [
        {
          "output_type": "execute_result",
          "data": {
            "text/html": [
              "<div>\n",
              "<style scoped>\n",
              "    .dataframe tbody tr th:only-of-type {\n",
              "        vertical-align: middle;\n",
              "    }\n",
              "\n",
              "    .dataframe tbody tr th {\n",
              "        vertical-align: top;\n",
              "    }\n",
              "\n",
              "    .dataframe thead th {\n",
              "        text-align: right;\n",
              "    }\n",
              "</style>\n",
              "<table border=\"1\" class=\"dataframe\">\n",
              "  <thead>\n",
              "    <tr style=\"text-align: right;\">\n",
              "      <th></th>\n",
              "      <th>year</th>\n",
              "      <th>month</th>\n",
              "      <th>class</th>\n",
              "    </tr>\n",
              "  </thead>\n",
              "  <tbody>\n",
              "    <tr>\n",
              "      <th>0</th>\n",
              "      <td>2015</td>\n",
              "      <td>1</td>\n",
              "      <td>1</td>\n",
              "    </tr>\n",
              "    <tr>\n",
              "      <th>1</th>\n",
              "      <td>2015</td>\n",
              "      <td>1</td>\n",
              "      <td>1</td>\n",
              "    </tr>\n",
              "    <tr>\n",
              "      <th>2</th>\n",
              "      <td>2015</td>\n",
              "      <td>1</td>\n",
              "      <td>2</td>\n",
              "    </tr>\n",
              "    <tr>\n",
              "      <th>3</th>\n",
              "      <td>2015</td>\n",
              "      <td>1</td>\n",
              "      <td>2</td>\n",
              "    </tr>\n",
              "    <tr>\n",
              "      <th>4</th>\n",
              "      <td>2015</td>\n",
              "      <td>1</td>\n",
              "      <td>2</td>\n",
              "    </tr>\n",
              "    <tr>\n",
              "      <th>5</th>\n",
              "      <td>2015</td>\n",
              "      <td>2</td>\n",
              "      <td>1</td>\n",
              "    </tr>\n",
              "    <tr>\n",
              "      <th>6</th>\n",
              "      <td>2015</td>\n",
              "      <td>2</td>\n",
              "      <td>1</td>\n",
              "    </tr>\n",
              "    <tr>\n",
              "      <th>7</th>\n",
              "      <td>2015</td>\n",
              "      <td>2</td>\n",
              "      <td>1</td>\n",
              "    </tr>\n",
              "    <tr>\n",
              "      <th>8</th>\n",
              "      <td>2015</td>\n",
              "      <td>2</td>\n",
              "      <td>2</td>\n",
              "    </tr>\n",
              "    <tr>\n",
              "      <th>9</th>\n",
              "      <td>2015</td>\n",
              "      <td>2</td>\n",
              "      <td>2</td>\n",
              "    </tr>\n",
              "  </tbody>\n",
              "</table>\n",
              "</div>"
            ],
            "text/plain": [
              "   year  month  class\n",
              "0  2015      1      1\n",
              "1  2015      1      1\n",
              "2  2015      1      2\n",
              "3  2015      1      2\n",
              "4  2015      1      2\n",
              "5  2015      2      1\n",
              "6  2015      2      1\n",
              "7  2015      2      1\n",
              "8  2015      2      2\n",
              "9  2015      2      2"
            ]
          },
          "metadata": {
            "tags": []
          },
          "execution_count": 39
        }
      ]
    },
    {
      "cell_type": "code",
      "metadata": {
        "colab": {
          "base_uri": "https://localhost:8080/",
          "height": 141
        },
        "id": "-lU5qX_O-44R",
        "outputId": "8dbc7f88-7da2-4819-914b-764f5f1a44dc"
      },
      "source": [
        "df_gb = df.groupby([ 'month', 'class']).size().unstack(level=1)\n",
        "df_gb"
      ],
      "execution_count": 40,
      "outputs": [
        {
          "output_type": "execute_result",
          "data": {
            "text/html": [
              "<div>\n",
              "<style scoped>\n",
              "    .dataframe tbody tr th:only-of-type {\n",
              "        vertical-align: middle;\n",
              "    }\n",
              "\n",
              "    .dataframe tbody tr th {\n",
              "        vertical-align: top;\n",
              "    }\n",
              "\n",
              "    .dataframe thead th {\n",
              "        text-align: right;\n",
              "    }\n",
              "</style>\n",
              "<table border=\"1\" class=\"dataframe\">\n",
              "  <thead>\n",
              "    <tr style=\"text-align: right;\">\n",
              "      <th>class</th>\n",
              "      <th>1</th>\n",
              "      <th>2</th>\n",
              "    </tr>\n",
              "    <tr>\n",
              "      <th>month</th>\n",
              "      <th></th>\n",
              "      <th></th>\n",
              "    </tr>\n",
              "  </thead>\n",
              "  <tbody>\n",
              "    <tr>\n",
              "      <th>1</th>\n",
              "      <td>2</td>\n",
              "      <td>3</td>\n",
              "    </tr>\n",
              "    <tr>\n",
              "      <th>2</th>\n",
              "      <td>3</td>\n",
              "      <td>2</td>\n",
              "    </tr>\n",
              "  </tbody>\n",
              "</table>\n",
              "</div>"
            ],
            "text/plain": [
              "class  1  2\n",
              "month      \n",
              "1      2  3\n",
              "2      3  2"
            ]
          },
          "metadata": {
            "tags": []
          },
          "execution_count": 40
        }
      ]
    },
    {
      "cell_type": "code",
      "metadata": {
        "colab": {
          "base_uri": "https://localhost:8080/",
          "height": 293
        },
        "id": "6xryZBSl_WvV",
        "outputId": "0e99a0d7-8edc-49cb-fd78-97fc359035fa"
      },
      "source": [
        "df_gb.plot(kind='bar')"
      ],
      "execution_count": 41,
      "outputs": [
        {
          "output_type": "execute_result",
          "data": {
            "text/plain": [
              "<matplotlib.axes._subplots.AxesSubplot at 0x7fa1461d7bd0>"
            ]
          },
          "metadata": {
            "tags": []
          },
          "execution_count": 41
        },
        {
          "output_type": "display_data",
          "data": {
            "image/png": "[encoded data removed]",
            "text/plain": [
              "<Figure size 432x288 with 1 Axes>"
            ]
          },
          "metadata": {
            "tags": [],
            "needs_background": "light"
          }
        }
      ]
    },
    {
      "cell_type": "code",
      "metadata": {
        "colab": {
          "base_uri": "https://localhost:8080/",
          "height": 414
        },
        "id": "P3pUG9xC_fmu",
        "outputId": "419c1837-074d-4d09-ebdb-4fef11d691be"
      },
      "source": [
        "# importing pandas as pd\n",
        "import pandas as pd\n",
        "\n",
        "# Creating the dataframe\n",
        "p = \"/content/drive/MyDrive/Colab/MachineCodeBasics/Basics/Data/nba.csv\"\n",
        "df1 = pd.read_csv(p)\n",
        "\n",
        "# Print the dataframe\n",
        "df1"
      ],
      "execution_count": 42,
      "outputs": [
        {
          "output_type": "execute_result",
          "data": {
            "text/html": [
              "<div>\n",
              "<style scoped>\n",
              "    .dataframe tbody tr th:only-of-type {\n",
              "        vertical-align: middle;\n",
              "    }\n",
              "\n",
              "    .dataframe tbody tr th {\n",
              "        vertical-align: top;\n",
              "    }\n",
              "\n",
              "    .dataframe thead th {\n",
              "        text-align: right;\n",
              "    }\n",
              "</style>\n",
              "<table border=\"1\" class=\"dataframe\">\n",
              "  <thead>\n",
              "    <tr style=\"text-align: right;\">\n",
              "      <th></th>\n",
              "      <th>Name</th>\n",
              "      <th>Team</th>\n",
              "      <th>Number</th>\n",
              "      <th>Position</th>\n",
              "      <th>Age</th>\n",
              "      <th>Height</th>\n",
              "      <th>Weight</th>\n",
              "      <th>College</th>\n",
              "      <th>Salary</th>\n",
              "    </tr>\n",
              "  </thead>\n",
              "  <tbody>\n",
              "    <tr>\n",
              "      <th>0</th>\n",
              "      <td>Avery Bradley</td>\n",
              "      <td>Boston Celtics</td>\n",
              "      <td>0.0</td>\n",
              "      <td>PG</td>\n",
              "      <td>25.0</td>\n",
              "      <td>6-2</td>\n",
              "      <td>180.0</td>\n",
              "      <td>Texas</td>\n",
              "      <td>7730337.0</td>\n",
              "    </tr>\n",
              "    <tr>\n",
              "      <th>1</th>\n",
              "      <td>Jae Crowder</td>\n",
              "      <td>Boston Celtics</td>\n",
              "      <td>99.0</td>\n",
              "      <td>SF</td>\n",
              "      <td>25.0</td>\n",
              "      <td>6-6</td>\n",
              "      <td>235.0</td>\n",
              "      <td>Marquette</td>\n",
              "      <td>6796117.0</td>\n",
              "    </tr>\n",
              "    <tr>\n",
              "      <th>2</th>\n",
              "      <td>John Holland</td>\n",
              "      <td>Boston Celtics</td>\n",
              "      <td>30.0</td>\n",
              "      <td>SG</td>\n",
              "      <td>27.0</td>\n",
              "      <td>6-5</td>\n",
              "      <td>205.0</td>\n",
              "      <td>Boston University</td>\n",
              "      <td>NaN</td>\n",
              "    </tr>\n",
              "    <tr>\n",
              "      <th>3</th>\n",
              "      <td>R.J. Hunter</td>\n",
              "      <td>Boston Celtics</td>\n",
              "      <td>28.0</td>\n",
              "      <td>SG</td>\n",
              "      <td>22.0</td>\n",
              "      <td>6-5</td>\n",
              "      <td>185.0</td>\n",
              "      <td>Georgia State</td>\n",
              "      <td>1148640.0</td>\n",
              "    </tr>\n",
              "    <tr>\n",
              "      <th>4</th>\n",
              "      <td>Jonas Jerebko</td>\n",
              "      <td>Boston Celtics</td>\n",
              "      <td>8.0</td>\n",
              "      <td>PF</td>\n",
              "      <td>29.0</td>\n",
              "      <td>6-10</td>\n",
              "      <td>231.0</td>\n",
              "      <td>NaN</td>\n",
              "      <td>5000000.0</td>\n",
              "    </tr>\n",
              "    <tr>\n",
              "      <th>...</th>\n",
              "      <td>...</td>\n",
              "      <td>...</td>\n",
              "      <td>...</td>\n",
              "      <td>...</td>\n",
              "      <td>...</td>\n",
              "      <td>...</td>\n",
              "      <td>...</td>\n",
              "      <td>...</td>\n",
              "      <td>...</td>\n",
              "    </tr>\n",
              "    <tr>\n",
              "      <th>453</th>\n",
              "      <td>Shelvin Mack</td>\n",
              "      <td>Utah Jazz</td>\n",
              "      <td>8.0</td>\n",
              "      <td>PG</td>\n",
              "      <td>26.0</td>\n",
              "      <td>6-3</td>\n",
              "      <td>203.0</td>\n",
              "      <td>Butler</td>\n",
              "      <td>2433333.0</td>\n",
              "    </tr>\n",
              "    <tr>\n",
              "      <th>454</th>\n",
              "      <td>Raul Neto</td>\n",
              "      <td>Utah Jazz</td>\n",
              "      <td>25.0</td>\n",
              "      <td>PG</td>\n",
              "      <td>24.0</td>\n",
              "      <td>6-1</td>\n",
              "      <td>179.0</td>\n",
              "      <td>NaN</td>\n",
              "      <td>900000.0</td>\n",
              "    </tr>\n",
              "    <tr>\n",
              "      <th>455</th>\n",
              "      <td>Tibor Pleiss</td>\n",
              "      <td>Utah Jazz</td>\n",
              "      <td>21.0</td>\n",
              "      <td>C</td>\n",
              "      <td>26.0</td>\n",
              "      <td>7-3</td>\n",
              "      <td>256.0</td>\n",
              "      <td>NaN</td>\n",
              "      <td>2900000.0</td>\n",
              "    </tr>\n",
              "    <tr>\n",
              "      <th>456</th>\n",
              "      <td>Jeff Withey</td>\n",
              "      <td>Utah Jazz</td>\n",
              "      <td>24.0</td>\n",
              "      <td>C</td>\n",
              "      <td>26.0</td>\n",
              "      <td>7-0</td>\n",
              "      <td>231.0</td>\n",
              "      <td>Kansas</td>\n",
              "      <td>947276.0</td>\n",
              "    </tr>\n",
              "    <tr>\n",
              "      <th>457</th>\n",
              "      <td>NaN</td>\n",
              "      <td>NaN</td>\n",
              "      <td>NaN</td>\n",
              "      <td>NaN</td>\n",
              "      <td>NaN</td>\n",
              "      <td>NaN</td>\n",
              "      <td>NaN</td>\n",
              "      <td>NaN</td>\n",
              "      <td>NaN</td>\n",
              "    </tr>\n",
              "  </tbody>\n",
              "</table>\n",
              "<p>458 rows × 9 columns</p>\n",
              "</div>"
            ],
            "text/plain": [
              "              Name            Team  ...            College     Salary\n",
              "0    Avery Bradley  Boston Celtics  ...              Texas  7730337.0\n",
              "1      Jae Crowder  Boston Celtics  ...          Marquette  6796117.0\n",
              "2     John Holland  Boston Celtics  ...  Boston University        NaN\n",
              "3      R.J. Hunter  Boston Celtics  ...      Georgia State  1148640.0\n",
              "4    Jonas Jerebko  Boston Celtics  ...                NaN  5000000.0\n",
              "..             ...             ...  ...                ...        ...\n",
              "453   Shelvin Mack       Utah Jazz  ...             Butler  2433333.0\n",
              "454      Raul Neto       Utah Jazz  ...                NaN   900000.0\n",
              "455   Tibor Pleiss       Utah Jazz  ...                NaN  2900000.0\n",
              "456    Jeff Withey       Utah Jazz  ...             Kansas   947276.0\n",
              "457            NaN             NaN  ...                NaN        NaN\n",
              "\n",
              "[458 rows x 9 columns]"
            ]
          },
          "metadata": {
            "tags": []
          },
          "execution_count": 42
        }
      ]
    },
    {
      "cell_type": "code",
      "metadata": {
        "colab": {
          "base_uri": "https://localhost:8080/",
          "height": 998
        },
        "id": "0Yh4fDnY_fcn",
        "outputId": "bb57d225-89ef-4c6d-feef-469442916e9e"
      },
      "source": [
        "# applying groupby() function to\n",
        "# group the data on team value.\n",
        "gk = df1[['Position','Team']].groupby('Team').count()\n",
        "\n",
        "gk"
      ],
      "execution_count": 45,
      "outputs": [
        {
          "output_type": "execute_result",
          "data": {
            "text/html": [
              "<div>\n",
              "<style scoped>\n",
              "    .dataframe tbody tr th:only-of-type {\n",
              "        vertical-align: middle;\n",
              "    }\n",
              "\n",
              "    .dataframe tbody tr th {\n",
              "        vertical-align: top;\n",
              "    }\n",
              "\n",
              "    .dataframe thead th {\n",
              "        text-align: right;\n",
              "    }\n",
              "</style>\n",
              "<table border=\"1\" class=\"dataframe\">\n",
              "  <thead>\n",
              "    <tr style=\"text-align: right;\">\n",
              "      <th></th>\n",
              "      <th>Position</th>\n",
              "    </tr>\n",
              "    <tr>\n",
              "      <th>Team</th>\n",
              "      <th></th>\n",
              "    </tr>\n",
              "  </thead>\n",
              "  <tbody>\n",
              "    <tr>\n",
              "      <th>Atlanta Hawks</th>\n",
              "      <td>15</td>\n",
              "    </tr>\n",
              "    <tr>\n",
              "      <th>Boston Celtics</th>\n",
              "      <td>15</td>\n",
              "    </tr>\n",
              "    <tr>\n",
              "      <th>Brooklyn Nets</th>\n",
              "      <td>15</td>\n",
              "    </tr>\n",
              "    <tr>\n",
              "      <th>Charlotte Hornets</th>\n",
              "      <td>15</td>\n",
              "    </tr>\n",
              "    <tr>\n",
              "      <th>Chicago Bulls</th>\n",
              "      <td>15</td>\n",
              "    </tr>\n",
              "    <tr>\n",
              "      <th>Cleveland Cavaliers</th>\n",
              "      <td>15</td>\n",
              "    </tr>\n",
              "    <tr>\n",
              "      <th>Dallas Mavericks</th>\n",
              "      <td>15</td>\n",
              "    </tr>\n",
              "    <tr>\n",
              "      <th>Denver Nuggets</th>\n",
              "      <td>15</td>\n",
              "    </tr>\n",
              "    <tr>\n",
              "      <th>Detroit Pistons</th>\n",
              "      <td>15</td>\n",
              "    </tr>\n",
              "    <tr>\n",
              "      <th>Golden State Warriors</th>\n",
              "      <td>15</td>\n",
              "    </tr>\n",
              "    <tr>\n",
              "      <th>Houston Rockets</th>\n",
              "      <td>15</td>\n",
              "    </tr>\n",
              "    <tr>\n",
              "      <th>Indiana Pacers</th>\n",
              "      <td>15</td>\n",
              "    </tr>\n",
              "    <tr>\n",
              "      <th>Los Angeles Clippers</th>\n",
              "      <td>15</td>\n",
              "    </tr>\n",
              "    <tr>\n",
              "      <th>Los Angeles Lakers</th>\n",
              "      <td>15</td>\n",
              "    </tr>\n",
              "    <tr>\n",
              "      <th>Memphis Grizzlies</th>\n",
              "      <td>18</td>\n",
              "    </tr>\n",
              "    <tr>\n",
              "      <th>Miami Heat</th>\n",
              "      <td>15</td>\n",
              "    </tr>\n",
              "    <tr>\n",
              "      <th>Milwaukee Bucks</th>\n",
              "      <td>16</td>\n",
              "    </tr>\n",
              "    <tr>\n",
              "      <th>Minnesota Timberwolves</th>\n",
              "      <td>14</td>\n",
              "    </tr>\n",
              "    <tr>\n",
              "      <th>New Orleans Pelicans</th>\n",
              "      <td>19</td>\n",
              "    </tr>\n",
              "    <tr>\n",
              "      <th>New York Knicks</th>\n",
              "      <td>16</td>\n",
              "    </tr>\n",
              "    <tr>\n",
              "      <th>Oklahoma City Thunder</th>\n",
              "      <td>15</td>\n",
              "    </tr>\n",
              "    <tr>\n",
              "      <th>Orlando Magic</th>\n",
              "      <td>14</td>\n",
              "    </tr>\n",
              "    <tr>\n",
              "      <th>Philadelphia 76ers</th>\n",
              "      <td>15</td>\n",
              "    </tr>\n",
              "    <tr>\n",
              "      <th>Phoenix Suns</th>\n",
              "      <td>15</td>\n",
              "    </tr>\n",
              "    <tr>\n",
              "      <th>Portland Trail Blazers</th>\n",
              "      <td>15</td>\n",
              "    </tr>\n",
              "    <tr>\n",
              "      <th>Sacramento Kings</th>\n",
              "      <td>15</td>\n",
              "    </tr>\n",
              "    <tr>\n",
              "      <th>San Antonio Spurs</th>\n",
              "      <td>15</td>\n",
              "    </tr>\n",
              "    <tr>\n",
              "      <th>Toronto Raptors</th>\n",
              "      <td>15</td>\n",
              "    </tr>\n",
              "    <tr>\n",
              "      <th>Utah Jazz</th>\n",
              "      <td>15</td>\n",
              "    </tr>\n",
              "    <tr>\n",
              "      <th>Washington Wizards</th>\n",
              "      <td>15</td>\n",
              "    </tr>\n",
              "  </tbody>\n",
              "</table>\n",
              "</div>"
            ],
            "text/plain": [
              "                        Position\n",
              "Team                            \n",
              "Atlanta Hawks                 15\n",
              "Boston Celtics                15\n",
              "Brooklyn Nets                 15\n",
              "Charlotte Hornets             15\n",
              "Chicago Bulls                 15\n",
              "Cleveland Cavaliers           15\n",
              "Dallas Mavericks              15\n",
              "Denver Nuggets                15\n",
              "Detroit Pistons               15\n",
              "Golden State Warriors         15\n",
              "Houston Rockets               15\n",
              "Indiana Pacers                15\n",
              "Los Angeles Clippers          15\n",
              "Los Angeles Lakers            15\n",
              "Memphis Grizzlies             18\n",
              "Miami Heat                    15\n",
              "Milwaukee Bucks               16\n",
              "Minnesota Timberwolves        14\n",
              "New Orleans Pelicans          19\n",
              "New York Knicks               16\n",
              "Oklahoma City Thunder         15\n",
              "Orlando Magic                 14\n",
              "Philadelphia 76ers            15\n",
              "Phoenix Suns                  15\n",
              "Portland Trail Blazers        15\n",
              "Sacramento Kings              15\n",
              "San Antonio Spurs             15\n",
              "Toronto Raptors               15\n",
              "Utah Jazz                     15\n",
              "Washington Wizards            15"
            ]
          },
          "metadata": {
            "tags": []
          },
          "execution_count": 45
        }
      ]
    },
    {
      "cell_type": "code",
      "metadata": {
        "id": "1WzQcZVq_fTl"
      },
      "source": [
        ""
      ],
      "execution_count": null,
      "outputs": []
    }
  ]
}